{
 "cells": [
  {
   "cell_type": "code",
   "execution_count": null,
   "metadata": {},
   "outputs": [],
   "source": []
  },
  {
   "attachments": {},
   "cell_type": "markdown",
   "metadata": {},
   "source": [
    "### ONE Phyrexia Analysis ###"
   ]
  },
  {
   "attachments": {},
   "cell_type": "markdown",
   "metadata": {},
   "source": [
    "<h3>Imports</h3>"
   ]
  },
  {
   "cell_type": "code",
   "execution_count": 1,
   "metadata": {},
   "outputs": [],
   "source": [
    "import numpy as np\n",
    "import pandas as pd\n",
    "import matplotlib.pyplot as plt\n",
    "from sklearn.neighbors import KNeighborsClassifier\n",
    "\n",
    "from sklearn.model_selection import train_test_split\n"
   ]
  },
  {
   "attachments": {},
   "cell_type": "markdown",
   "metadata": {},
   "source": [
    "<h3>Data Transformation</h3>"
   ]
  },
  {
   "attachments": {},
   "cell_type": "markdown",
   "metadata": {},
   "source": [
    "Open up our data, from our raw data, we will select just the draft_id, pick, games_won, and pick_maindeck_rate, which we will preprocess into rows that look like [card in deck] [games won]. A deck will be able to have half cards since players may have changed deck composition mid way through the game."
   ]
  },
  {
   "cell_type": "code",
   "execution_count": 2,
   "metadata": {},
   "outputs": [],
   "source": [
    "df = pd.read_csv(\"ONE_premier_draft_data.csv\", usecols = ['draft_id','event_match_wins', 'pick','pick_maindeck_rate'], nrows=45*5000)"
   ]
  },
  {
   "cell_type": "code",
   "execution_count": 3,
   "metadata": {},
   "outputs": [],
   "source": [
    "#Start our decks dataframe by finding all the unique drafts along with how many games they won\n",
    "agg_functions = {'event_match_wins' : 'first'}\n",
    "decks = df[['draft_id', 'event_match_wins']].groupby('draft_id').aggregate(agg_functions)\n",
    "\n",
    "#Add one column to decks for each card in the set and initialize the values to 0\n",
    "cards = df['pick'].unique()\n",
    "new_cols = []\n",
    "for card in cards:\n",
    "    new_cols.append(card)\n",
    "decks = decks.reindex(columns=decks.columns.tolist() + new_cols)   # add empty cols\n",
    "decks[cards] = 0\n",
    "\n",
    "#For each pick, we add the average number of copies that made the main deck\n",
    "#Main deck rate is in [0,1] so if a card got picked twice and both copies \n",
    "#we in the main deck, we would have two rows that look like DRAFT, CARDNAME, 1\n",
    "#so the resulting value of decks[DRAFT, CARDNAME] would be 2\n",
    "for _, row in df[['draft_id', 'pick', 'pick_maindeck_rate']].iterrows():\n",
    "    decks.loc[row['draft_id'],row['pick']] += row['pick_maindeck_rate']\n",
    "\n",
    "\n",
    "\n",
    "#Only consider rows with a sum greater than 18\n",
    "#Any deck with fewer cards is an outlier\n",
    "#Note this is kinda hacky as we're still summing with the event_match_wins \n",
    "decks = decks.loc[(decks.sum(axis=1) > 18)]\n",
    "decks['event_match_wins'] = decks['event_match_wins'].apply(lambda x: int(x >= 5))\n",
    "decks = decks.round(0)\n",
    "\n",
    "X_train, X_test, y_train, y_test = train_test_split(decks.loc[:, decks.columns != 'event_match_wins'], decks['event_match_wins'], test_size=0.2, random_state=42)\n"
   ]
  },
  {
   "attachments": {},
   "cell_type": "markdown",
   "metadata": {},
   "source": [
    "<h3>kNN-Model</h3>"
   ]
  },
  {
   "cell_type": "code",
   "execution_count": 13,
   "metadata": {},
   "outputs": [
    {
     "name": "stdout",
     "output_type": "stream",
     "text": [
      "Train: 1.0, Test: 0.6197183098591549\n",
      "Train: 0.8148148148148148, Test: 0.6549295774647887\n",
      "Train: 0.7583774250440917, Test: 0.6408450704225352\n",
      "Train: 0.7495590828924162, Test: 0.7183098591549296\n",
      "Train: 0.7336860670194003, Test: 0.6549295774647887\n",
      "Train: 0.708994708994709, Test: 0.6549295774647887\n",
      "Train: 0.7037037037037037, Test: 0.6830985915492958\n",
      "Train: 0.6984126984126984, Test: 0.676056338028169\n",
      "Train: 0.6984126984126984, Test: 0.6901408450704225\n",
      "Train: 0.6948853615520282, Test: 0.7112676056338029\n",
      "Train: 0.689594356261023, Test: 0.6971830985915493\n",
      "Train: 0.6878306878306878, Test: 0.6971830985915493\n",
      "Train: 0.6931216931216931, Test: 0.7183098591549296\n",
      "Train: 0.689594356261023, Test: 0.7183098591549296\n",
      "Train: 0.6878306878306878, Test: 0.704225352112676\n",
      "Train: 0.689594356261023, Test: 0.6971830985915493\n",
      "Train: 0.689594356261023, Test: 0.6971830985915493\n",
      "Train: 0.6878306878306878, Test: 0.7112676056338029\n",
      "Train: 0.691358024691358, Test: 0.7112676056338029\n",
      "Train: 0.6825396825396826, Test: 0.7112676056338029\n",
      "Train: 0.6825396825396826, Test: 0.7112676056338029\n",
      "Train: 0.6860670194003528, Test: 0.7112676056338029\n"
     ]
    },
    {
     "data": {
      "image/png": "[encoded data removed]",
      "text/plain": [
       "<Figure size 640x480 with 1 Axes>"
      ]
     },
     "metadata": {},
     "output_type": "display_data"
    }
   ],
   "source": [
    "num_neighbors = range(1,45,2)\n",
    "train_accuracies = []\n",
    "test_accuracies = []\n",
    "neigh = KNeighborsClassifier(n_neighbors=1)\n",
    "for n in num_neighbors:\n",
    "    neigh.n_neighbors = n\n",
    "    neigh.fit(X_train, y_train)\n",
    "    train_accuracy = neigh.score(X_train,y_train)\n",
    "    train_accuracies.append(train_accuracy)\n",
    "    test_accuracy = neigh.score(X_test,y_test)\n",
    "    test_accuracies.append(test_accuracy)\n",
    "    print(f\"Train: {train_accuracy}, Test: {test_accuracy}\")\n",
    "\n",
    "plt.plot(num_neighbors, train_accuracies)\n",
    "plt.plot(num_neighbors, test_accuracies)\n",
    "plt.show()\n"
   ]
  },
  {
   "attachments": {},
   "cell_type": "markdown",
   "metadata": {},
   "source": [
    "This is the baseline we have to beat. If we can't get above this percentage we might as well just be guessing"
   ]
  },
  {
   "cell_type": "code",
   "execution_count": 38,
   "metadata": {},
   "outputs": [
    {
     "name": "stdout",
     "output_type": "stream",
     "text": [
      "0.3127587504704554\n",
      "0.6872412495295446\n"
     ]
    }
   ],
   "source": [
    "total_winning_decks = decks[\"event_match_wins\"].sum()\n",
    "total_decks = decks[\"event_match_wins\"].count()\n",
    "print(total_winning_decks/total_decks)\n",
    "print(1- total_winning_decks/total_decks)"
   ]
  },
  {
   "attachments": {},
   "cell_type": "markdown",
   "metadata": {},
   "source": [
    "<h3>Naive Bayes</h3>"
   ]
  },
  {
   "cell_type": "code",
   "execution_count": 15,
   "metadata": {},
   "outputs": [
    {
     "name": "stdout",
     "output_type": "stream",
     "text": [
      "Gaussian Naive Bayes Accuracy: 0.323943661971831\n"
     ]
    }
   ],
   "source": [
    "from sklearn.naive_bayes import GaussianNB\n",
    "from sklearn.preprocessing import StandardScaler\n",
    "\n",
    "gnb = GaussianNB()\n",
    "scaler = StandardScaler()\n",
    "gaussian_X_train = scaler.fit_transform(X_train)\n",
    "gnb.fit(gaussian_X_train, y_train)\n",
    "gaussian_X_test = scaler.transform(X_test)\n",
    "accuracy = gnb.score(gaussian_X_test, y_test)\n",
    "print(f\"Gaussian Naive Bayes Accuracy: {accuracy}\")"
   ]
  },
  {
   "attachments": {},
   "cell_type": "markdown",
   "metadata": {},
   "source": [
    "<h3>Random Forest</h3>"
   ]
  },
  {
   "cell_type": "code",
   "execution_count": 35,
   "metadata": {},
   "outputs": [
    {
     "data": {
      "image/png": "[encoded data removed]",
      "text/plain": [
       "<Figure size 640x480 with 1 Axes>"
      ]
     },
     "metadata": {},
     "output_type": "display_data"
    }
   ],
   "source": [
    "from sklearn.ensemble import RandomForestClassifier\n",
    "\n",
    "num_trees = range(10, 501, 10)\n",
    "train_accuracies = []\n",
    "test_accuracies = []\n",
    "for n in num_trees:\n",
    "    random_forest = RandomForestClassifier(n_estimators=n, max_depth=4)\n",
    "    random_forest.fit(X_train, y_train)\n",
    "    train_accuracy = random_forest.score(X_train,y_train)\n",
    "    train_accuracies.append(train_accuracy)\n",
    "    test_accuracy = random_forest.score(X_test,y_test)\n",
    "    test_accuracies.append(test_accuracy)\n",
    "\n",
    "plt.plot(num_trees, train_accuracies, label=\"train\")\n",
    "plt.plot(num_trees, test_accuracies, label=\"test\")\n",
    "plt.legend(loc=\"upper right\")\n",
    "plt.show()"
   ]
  },
  {
   "attachments": {},
   "cell_type": "markdown",
   "metadata": {},
   "source": [
    "<h3>PyTorch / Neural Net</h3>"
   ]
  },
  {
   "cell_type": "code",
   "execution_count": 22,
   "metadata": {},
   "outputs": [
    {
     "name": "stdout",
     "output_type": "stream",
     "text": [
      "The autoreload extension is already loaded. To reload it, use:\n",
      "  %reload_ext autoreload\n",
      "NeuralNet(\n",
      "  (linear_relu_stack): Sequential(\n",
      "    (0): Linear(in_features=265, out_features=530, bias=True)\n",
      "    (1): ReLU()\n",
      "    (2): Linear(in_features=530, out_features=530, bias=True)\n",
      "    (3): ReLU()\n",
      "    (4): Linear(in_features=530, out_features=2, bias=True)\n",
      "  )\n",
      ")\n"
     ]
    },
    {
     "ename": "AttributeError",
     "evalue": "'TensorDataset' object has no attribute 'type'",
     "output_type": "error",
     "traceback": [
      "\u001b[0;31m---------------------------------------------------------------------------\u001b[0m",
      "\u001b[0;31mAttributeError\u001b[0m                            Traceback (most recent call last)",
      "Cell \u001b[0;32mIn[22], line 20\u001b[0m\n\u001b[1;32m     18\u001b[0m train_tensor \u001b[39m=\u001b[39m TensorDataset(Tensor(X_train\u001b[39m.\u001b[39mvalues), Tensor(y_train\u001b[39m.\u001b[39mvalues))\n\u001b[1;32m     19\u001b[0m test_tensor \u001b[39m=\u001b[39m TensorDataset(Tensor(X_test\u001b[39m.\u001b[39mvalues), Tensor(y_test\u001b[39m.\u001b[39mvalues))\n\u001b[0;32m---> 20\u001b[0m train_tensor \u001b[39m=\u001b[39m train_tensor\u001b[39m.\u001b[39;49mtype(torch\u001b[39m.\u001b[39mLongTensor)\n\u001b[1;32m     21\u001b[0m test_tensor \u001b[39m=\u001b[39m test_tensor\u001b[39m.\u001b[39mtype(torch\u001b[39m.\u001b[39mLongTensor)\n\u001b[1;32m     22\u001b[0m train_dataloader \u001b[39m=\u001b[39m DataLoader(train_tensor, batch_size\u001b[39m=\u001b[39mbatch_size)\n",
      "\u001b[0;31mAttributeError\u001b[0m: 'TensorDataset' object has no attribute 'type'"
     ]
    }
   ],
   "source": [
    "if 'autoreload' not in get_ipython().extension_manager.loaded:\n",
    "    %load_ext autoreload\n",
    "%autoreload 2\n",
    "\n",
    "import torch\n",
    "from torch import nn, Tensor\n",
    "from torch.utils.data import TensorDataset, DataLoader\n",
    "import DraftNeuralNet\n",
    "\n",
    "device = \"cuda\" if torch.cuda.is_available() else \"mps\" if torch.backends.mps.is_available() else \"cpu\"\n",
    "\n",
    "model = DraftNeuralNet.NeuralNet(len(cards)).to(device)\n",
    "print(model)\n",
    "\n",
    "\n",
    "# Create data loaders.\n",
    "batch_size = 64\n",
    "train_tensor = TensorDataset(Tensor(X_train.values), Tensor(y_train.values))\n",
    "test_tensor = TensorDataset(Tensor(X_test.values), Tensor(y_test.values))\n",
    "train_tensor = train_tensor.type(torch.LongTensor)\n",
    "test_tensor = test_tensor.type(torch.LongTensor)\n",
    "train_dataloader = DataLoader(train_tensor, batch_size=batch_size)\n",
    "test_dataloader = DataLoader(test_tensor, batch_size=batch_size)\n",
    "\n",
    "loss_fn = nn.CrossEntropyLoss()\n",
    "optimizer = torch.optim.SGD(model.parameters(), lr=1e-3)\n",
    "\n",
    "epochs = 5\n",
    "for t in range(epochs):\n",
    "    print(f\"Epoch {t+1}\\n-------------------------------\")\n",
    "    DraftNeuralNet.train(train_dataloader, model, loss_fn, optimizer, device)\n",
    "    DraftNeuralNet.test(test_dataloader, model, loss_fn, device)\n",
    "print(\"Done!\")\n",
    "\n"
   ]
  }
 ],
 "metadata": {
  "kernelspec": {
   "display_name": "Python 3",
   "language": "python",
   "name": "python3"
  },
  "language_info": {
   "codemirror_mode": {
    "name": "ipython",
    "version": 3
   },
   "file_extension": ".py",
   "mimetype": "text/x-python",
   "name": "python",
   "nbconvert_exporter": "python",
   "pygments_lexer": "ipython3",
   "version": "3.10.6"
  },
  "orig_nbformat": 4,
  "vscode": {
   "interpreter": {
    "hash": "916dbcbb3f70747c44a77c7bcd40155683ae19c65e1c03b4aa3499c5328201f1"
   }
  }
 },
 "nbformat": 4,
 "nbformat_minor": 2
}
