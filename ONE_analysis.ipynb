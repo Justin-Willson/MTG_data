{
 "cells": [
  {
   "cell_type": "code",
   "execution_count": null,
   "metadata": {},
   "outputs": [],
   "source": []
  },
  {
   "attachments": {},
   "cell_type": "markdown",
   "metadata": {},
   "source": [
    "### ONE Phyrexia Analysis ###"
   ]
  },
  {
   "attachments": {},
   "cell_type": "markdown",
   "metadata": {},
   "source": [
    "<h3>Imports</h3>"
   ]
  },
  {
   "cell_type": "code",
   "execution_count": 1,
   "metadata": {},
   "outputs": [],
   "source": [
    "import numpy as np\n",
    "import pandas as pd\n",
    "import matplotlib.pyplot as plt\n",
    "from sklearn.neighbors import KNeighborsClassifier\n",
    "\n",
    "from sklearn.model_selection import train_test_split\n"
   ]
  },
  {
   "attachments": {},
   "cell_type": "markdown",
   "metadata": {},
   "source": [
    "<h3>Data Transformation</h3>"
   ]
  },
  {
   "attachments": {},
   "cell_type": "markdown",
   "metadata": {},
   "source": [
    "Open up our data, from our raw data, we will select just the draft_id, pick, games_won, and pick_maindeck_rate, which we will preprocess into rows that look like [card in deck] [games won]. A deck will be able to have half cards since players may have changed deck composition mid way through the game."
   ]
  },
  {
   "cell_type": "code",
   "execution_count": 41,
   "metadata": {},
   "outputs": [],
   "source": [
    "df = pd.read_csv(\"ONE_premier_draft_data.csv\", usecols = ['draft_id','event_match_wins', 'pick','pick_maindeck_rate'])"
   ]
  },
  {
   "cell_type": "code",
   "execution_count": 42,
   "metadata": {},
   "outputs": [],
   "source": [
    "#Start our decks dataframe by finding all the unique drafts along with how many games they won\n",
    "agg_functions = {'event_match_wins' : 'first'}\n",
    "decks = df[['draft_id', 'event_match_wins']].groupby('draft_id').aggregate(agg_functions)\n",
    "\n",
    "#Add one column to decks for each card in the set and initialize the values to 0\n",
    "cards = df['pick'].unique()\n",
    "new_cols = []\n",
    "for card in cards:\n",
    "    new_cols.append(card)\n",
    "decks = decks.reindex(columns=decks.columns.tolist() + new_cols)   # add empty cols\n",
    "decks[cards] = 0\n",
    "\n",
    "#For each pick, we add the average number of copies that made the main deck\n",
    "#Main deck rate is in [0,1] so if a card got picked twice and both copies \n",
    "#we in the main deck, we would have two rows that look like DRAFT, CARDNAME, 1\n",
    "#so the resulting value of decks[DRAFT, CARDNAME] would be 2\n",
    "for _, row in df[['draft_id', 'pick', 'pick_maindeck_rate']].iterrows():\n",
    "    decks.loc[row['draft_id'],row['pick']] += row['pick_maindeck_rate']\n",
    "\n",
    "\n",
    "\n",
    "#Only consider rows with a sum greater than 18\n",
    "#Any deck with fewer cards is an outlier\n",
    "#Note this is kinda hacky as we're still summing with the event_match_wins \n",
    "decks = decks.loc[(decks.sum(axis=1) > 18)]\n",
    "decks['event_match_wins'] = decks['event_match_wins'].apply(lambda x: int(x >= 5))\n",
    "decks = decks.round(0)\n",
    "\n",
    "X_train, X_test, y_train, y_test = train_test_split(decks.loc[:, decks.columns != 'event_match_wins'], decks['event_match_wins'], test_size=0.2, random_state=42)\n"
   ]
  },
  {
   "attachments": {},
   "cell_type": "markdown",
   "metadata": {},
   "source": [
    "<h3>kNN-Model</h3>"
   ]
  },
  {
   "cell_type": "code",
   "execution_count": 5,
   "metadata": {},
   "outputs": [
    {
     "name": "stdout",
     "output_type": "stream",
     "text": [
      "Train: 1.0, Test: 0.6077140169332079\n",
      "Train: 0.7958127499411903, Test: 0.6340545625587959\n",
      "Train: 0.7508821453775583, Test: 0.6340545625587959\n",
      "Train: 0.7254763585038815, Test: 0.658513640639699\n",
      "Train: 0.7200658668548576, Test: 0.6745061147695203\n",
      "Train: 0.7141848976711362, Test: 0.6782690498588899\n",
      "Train: 0.7085391672547636, Test: 0.6820319849482597\n",
      "Train: 0.702893436838391, Test: 0.6848541862652869\n",
      "Train: 0.7007762879322512, Test: 0.6839134524929446\n",
      "Train: 0.6974829451893672, Test: 0.6961429915333961\n",
      "Train: 0.6996000940955069, Test: 0.6904985888993415\n",
      "Train: 0.6965419901199718, Test: 0.6886171213546566\n",
      "Train: 0.6967772288873206, Test: 0.6970837253057385\n",
      "Train: 0.6930134086097389, Test: 0.6933207902163687\n",
      "Train: 0.6918372147729945, Test: 0.6961429915333961\n",
      "Train: 0.6941896024464832, Test: 0.6904985888993415\n",
      "Train: 0.691131498470948, Test: 0.6961429915333961\n",
      "Train: 0.6904257821689014, Test: 0.6989651928504234\n",
      "Train: 0.6906610209362503, Test: 0.7046095954844779\n",
      "Train: 0.6901905434015526, Test: 0.6999059266227657\n",
      "Train: 0.6890143495648082, Test: 0.6970837253057385\n",
      "Train: 0.6899553046342037, Test: 0.6980244590780809\n"
     ]
    },
    {
     "data": {
      "image/png": "[encoded data removed]",
      "text/plain": [
       "<Figure size 640x480 with 1 Axes>"
      ]
     },
     "metadata": {},
     "output_type": "display_data"
    }
   ],
   "source": [
    "num_neighbors = range(1,45,2)\n",
    "train_accuracies = []\n",
    "test_accuracies = []\n",
    "neigh = KNeighborsClassifier(n_neighbors=1)\n",
    "for n in num_neighbors:\n",
    "    neigh.n_neighbors = n\n",
    "    neigh.fit(X_train, y_train)\n",
    "    train_accuracy = neigh.score(X_train,y_train)\n",
    "    train_accuracies.append(train_accuracy)\n",
    "    test_accuracy = neigh.score(X_test,y_test)\n",
    "    test_accuracies.append(test_accuracy)\n",
    "    print(f\"Train: {train_accuracy}, Test: {test_accuracy}\")\n",
    "\n",
    "plt.plot(num_neighbors, train_accuracies)\n",
    "plt.plot(num_neighbors, test_accuracies)\n",
    "plt.show()\n"
   ]
  },
  {
   "attachments": {},
   "cell_type": "markdown",
   "metadata": {},
   "source": [
    "This is the baseline we have to beat. If we can't get above this percentage we might as well just be guessing"
   ]
  },
  {
   "cell_type": "code",
   "execution_count": 45,
   "metadata": {},
   "outputs": [
    {
     "name": "stdout",
     "output_type": "stream",
     "text": [
      "0.27433337223984805\n",
      "0.725666627760152\n"
     ]
    }
   ],
   "source": [
    "total_winning_decks = decks[\"event_match_wins\"].sum()\n",
    "total_decks = decks[\"event_match_wins\"].count()\n",
    "print(total_winning_decks/total_decks)\n",
    "print(1- total_winning_decks/total_decks)"
   ]
  },
  {
   "attachments": {},
   "cell_type": "markdown",
   "metadata": {},
   "source": [
    "<h3>Naive Bayes</h3>"
   ]
  },
  {
   "cell_type": "code",
   "execution_count": 7,
   "metadata": {},
   "outputs": [
    {
     "name": "stdout",
     "output_type": "stream",
     "text": [
      "Gaussian Naive Bayes Accuracy: 0.38005644402634053\n"
     ]
    }
   ],
   "source": [
    "from sklearn.naive_bayes import GaussianNB\n",
    "from sklearn.preprocessing import StandardScaler\n",
    "\n",
    "gnb = GaussianNB()\n",
    "scaler = StandardScaler()\n",
    "gaussian_X_train = scaler.fit_transform(X_train)\n",
    "gnb.fit(gaussian_X_train, y_train)\n",
    "gaussian_X_test = scaler.transform(X_test)\n",
    "accuracy = gnb.score(gaussian_X_test, y_test)\n",
    "print(f\"Gaussian Naive Bayes Accuracy: {accuracy}\")"
   ]
  },
  {
   "attachments": {},
   "cell_type": "markdown",
   "metadata": {},
   "source": [
    "<h3>Random Forest</h3>"
   ]
  },
  {
   "cell_type": "code",
   "execution_count": 8,
   "metadata": {},
   "outputs": [
    {
     "data": {
      "image/png": "[encoded data removed]",
      "text/plain": [
       "<Figure size 640x480 with 1 Axes>"
      ]
     },
     "metadata": {},
     "output_type": "display_data"
    }
   ],
   "source": [
    "from sklearn.ensemble import RandomForestClassifier\n",
    "\n",
    "num_trees = range(10, 501, 10)\n",
    "train_accuracies = []\n",
    "test_accuracies = []\n",
    "for n in num_trees:\n",
    "    random_forest = RandomForestClassifier(n_estimators=n, max_depth=4)\n",
    "    random_forest.fit(X_train, y_train)\n",
    "    train_accuracy = random_forest.score(X_train,y_train)\n",
    "    train_accuracies.append(train_accuracy)\n",
    "    test_accuracy = random_forest.score(X_test,y_test)\n",
    "    test_accuracies.append(test_accuracy)\n",
    "\n",
    "plt.plot(num_trees, train_accuracies, label=\"train\")\n",
    "plt.plot(num_trees, test_accuracies, label=\"test\")\n",
    "plt.legend(loc=\"upper right\")\n",
    "plt.show()"
   ]
  },
  {
   "attachments": {},
   "cell_type": "markdown",
   "metadata": {},
   "source": [
    "<h3>PyTorch / Neural Net</h3>"
   ]
  },
  {
   "cell_type": "code",
   "execution_count": 46,
   "metadata": {},
   "outputs": [],
   "source": [
    "import torch\n",
    "from torch import nn, Tensor\n",
    "from torch.utils.data import TensorDataset, DataLoader\n",
    "\n",
    "# Create data loaders.\n",
    "batch_size = 64\n",
    "train_tensor = TensorDataset(Tensor(X_train.values), Tensor(y_train.values).type(torch.LongTensor))\n",
    "test_tensor = TensorDataset(Tensor(X_test.values), Tensor(y_test.values).type(torch.LongTensor))\n",
    "train_data = DataLoader(train_tensor, batch_size=batch_size, shuffle=True)\n",
    "test_data = DataLoader(test_tensor, batch_size=batch_size, shuffle=True)"
   ]
  },
  {
   "cell_type": "code",
   "execution_count": 65,
   "metadata": {},
   "outputs": [
    {
     "name": "stdout",
     "output_type": "stream",
     "text": [
      "265\n",
      "NeuralNet(\n",
      "  (linear_relu_stack): Sequential(\n",
      "    (0): Linear(in_features=265, out_features=100, bias=True)\n",
      "    (1): ReLU()\n",
      "    (2): Linear(in_features=100, out_features=10, bias=True)\n",
      "    (3): ReLU()\n",
      "    (4): Linear(in_features=10, out_features=2, bias=True)\n",
      "  )\n",
      ")\n",
      "Test Error: \n",
      " Accuracy: 72.6%, Avg loss: 41.224219 \n",
      "\n",
      "Test Error: \n",
      " Accuracy: 72.6%, Avg loss: 37.593593 \n",
      "\n",
      "Test Error: \n",
      " Accuracy: 72.6%, Avg loss: 37.483209 \n",
      "\n",
      "Test Error: \n",
      " Accuracy: 72.6%, Avg loss: 37.409094 \n",
      "\n",
      "Test Error: \n",
      " Accuracy: 72.6%, Avg loss: 37.336650 \n",
      "\n",
      "Test Error: \n",
      " Accuracy: 72.6%, Avg loss: 37.264549 \n",
      "\n",
      "Test Error: \n",
      " Accuracy: 72.6%, Avg loss: 37.190394 \n",
      "\n",
      "Test Error: \n",
      " Accuracy: 72.6%, Avg loss: 37.116758 \n",
      "\n",
      "Test Error: \n",
      " Accuracy: 72.6%, Avg loss: 37.045027 \n",
      "\n",
      "Test Error: \n",
      " Accuracy: 72.6%, Avg loss: 36.974298 \n",
      "\n"
     ]
    }
   ],
   "source": [
    "%autoreload 2\n",
    "import DraftNeuralNet\n",
    "\n",
    "device = \"cuda\" if torch.cuda.is_available() else \"mps\" if torch.backends.mps.is_available() else \"cpu\"\n",
    "\n",
    "model = DraftNeuralNet.NeuralNet(len(cards)).to(device)\n",
    "print(len(cards))\n",
    "print(model)\n",
    "\n",
    "loss_fn = torch.nn.CrossEntropyLoss(reduction='sum')\n",
    "optimizer = torch.optim.SGD(model.parameters(), lr=1e-5)\n",
    "num_epochs = 50\n",
    "\n",
    "for epoch in range(num_epochs):\n",
    "    DraftNeuralNet.train(train_data, model, loss_fn, optimizer, device)\n",
    "    if epoch % 5 == 0:\n",
    "        DraftNeuralNet.test(train_data, model, loss_fn, device)\n",
    "\n"
   ]
  }
 ],
 "metadata": {
  "kernelspec": {
   "display_name": "Python 3",
   "language": "python",
   "name": "python3"
  },
  "language_info": {
   "codemirror_mode": {
    "name": "ipython",
    "version": 3
   },
   "file_extension": ".py",
   "mimetype": "text/x-python",
   "name": "python",
   "nbconvert_exporter": "python",
   "pygments_lexer": "ipython3",
   "version": "3.8.10"
  },
  "orig_nbformat": 4,
  "vscode": {
   "interpreter": {
    "hash": "916dbcbb3f70747c44a77c7bcd40155683ae19c65e1c03b4aa3499c5328201f1"
   }
  }
 },
 "nbformat": 4,
 "nbformat_minor": 2
}
